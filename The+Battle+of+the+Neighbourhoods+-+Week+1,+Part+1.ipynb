{
 "cells": [
  {
   "cell_type": "markdown",
   "metadata": {},
   "source": [
    "## The Battle of the Neigbourhoods - Week 1, Part 1"
   ]
  },
  {
   "cell_type": "markdown",
   "metadata": {},
   "source": [
    "### A Description of the business problem and a discussion of the background"
   ]
  },
  {
   "cell_type": "markdown",
   "metadata": {},
   "source": [
    "The business problem is opening a small consultancy in New York City (NYC). NYC is one of the greatest cities in the world, and a global commerce centre. The problem is from the point of view of a small consultancy owner, and identifying the best location to open a consultancy office. For large established brands, opening offices in the premium areas would be possible, and even expected. For a small consultancy, large cost savings could be made by identifying an area where the business vibe is good, but the area is not necessarily a premium area. The rents could be significantly lower and the location could be regarded as acceptable for a small startup business. \n",
    "\n",
    "I am assuming the small consultancy will regularly accept propspective and actual clients for business presentations, and possible entertainment afterwards. The area would need to fulfill the following criteria:\n",
    "\n",
    "o The neighbourhood in which the office is based needs to be presentable\n",
    "o The office needs to be close to public transport links. I assume within 1 mile of a tube stop.\n",
    "o The office needs to be reasonably easily commutable from the premium business district(s), as that is where potential\n",
    "  clients are likely to be located.\n",
    "o There should be several popular restaurants in close proximity to the office for after business entertainment, as well as\n",
    "  staff functions.\n",
    "o The crime statistics for the area should be reasonably low, i.e. no worse than the statistics of the main business \n",
    "  district(s).\n",
    "o The office location should also be close to walking and cycling routes to make it attracive to employees.\n",
    "\n",
    "Historically small businesses would try and locate in the premium areas. However, this added a large cost burden to the startup, and since financial considerations are a key success factor for small startups, finding acceptable alternatives which will still allow conducting business would be advantageous.\n",
    "\n",
    "I believe any small business statup would be interested in the results of the analysis, especially with the justifications for why an area should be acceptable. This will allow small startups to make better financial decisions when establishing an office."
   ]
  }
 ],
 "metadata": {
  "kernelspec": {
   "display_name": "Python 3",
   "language": "python",
   "name": "python3"
  },
  "language_info": {
   "codemirror_mode": {
    "name": "ipython",
    "version": 3
   },
   "file_extension": ".py",
   "mimetype": "text/x-python",
   "name": "python",
   "nbconvert_exporter": "python",
   "pygments_lexer": "ipython3",
   "version": "3.6.3"
  }
 },
 "nbformat": 4,
 "nbformat_minor": 2
}
