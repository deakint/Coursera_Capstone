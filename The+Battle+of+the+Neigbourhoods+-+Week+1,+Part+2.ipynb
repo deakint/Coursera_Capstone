{
 "cells": [
  {
   "cell_type": "markdown",
   "metadata": {},
   "source": [
    "## The Battle of the Neigbourhoods - Week 1, Part 2"
   ]
  },
  {
   "cell_type": "markdown",
   "metadata": {},
   "source": [
    "### A Description of the data and how it will be used to solve the problem"
   ]
  },
  {
   "cell_type": "markdown",
   "metadata": {},
   "source": [
    "I will focus the analysis on New York City (NYC). I will use the data file that we used in Week 3. There are 5 Boroughs and 306 Neighbourhoods in NYC, and the dataset contains relevant data for all of these.\n",
    "\n",
    "This dataset is available at: https://cocl.us/new_york_dataset."
   ]
  },
  {
   "cell_type": "markdown",
   "metadata": {},
   "source": [
    "I will use data from sites such as: https://www.squarefoot.com/ny/new-york/office-space for general data about average business rents in Boroughs and Neighbourhoods. This site also identifies Class B areas, which are the areas I would like to investigate in detail. I may also look at data from Wikipedia (for example: https://en.wikipedia.org/wiki/List_of_Michelin_starred_restaurants_in_New_York_City) and other sites to support the justification for chooing a certain area."
   ]
  },
  {
   "cell_type": "markdown",
   "metadata": {},
   "source": [
    "In addition, I will use the dataset provided at: https://data.cityofnewyork.us/Public-Safety/NYPD-Complaint-Data-Current-Year-To-Date-/5uac-w243/data to analyse the crime statistics in the different Boroughs and Neighbourhoods. I need to confirm that the crime statistics related to business hours crime is no worse than that in the central business district(s). If the crime statistics are lower than that in the central business district(s), this is a significant motivational factor for basing a small startup office in the neighbourhood."
   ]
  },
  {
   "cell_type": "markdown",
   "metadata": {},
   "source": [
    "I will use the FourSquare API to investigate geographical coordinates to analyse places of interest around the potential office location, including restaurants and crime statistics. "
   ]
  }
 ],
 "metadata": {
  "kernelspec": {
   "display_name": "Python 3",
   "language": "python",
   "name": "python3"
  },
  "language_info": {
   "codemirror_mode": {
    "name": "ipython",
    "version": 3
   },
   "file_extension": ".py",
   "mimetype": "text/x-python",
   "name": "python",
   "nbconvert_exporter": "python",
   "pygments_lexer": "ipython3",
   "version": "3.6.3"
  }
 },
 "nbformat": 4,
 "nbformat_minor": 2
}
